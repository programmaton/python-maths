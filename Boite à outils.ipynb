{
 "cells": [
  {
   "cell_type": "markdown",
   "metadata": {},
   "source": [
    "# Python en maths: boîte à outils\n",
    "\n",
    "Voici une fiche récapitulative des divers codes que nous allons faire pendant l'année avec Python ! Cette fiche sera couramment mise à jour dans l'année, n'hésitez pas à la zieuter !\n",
    "\n",
    "**Note: Vous pouvez modifier les morceaux de code et les exécuter ! Pour cela, sélectionnez la cellule, puis faite Maj + Entrée**"
   ]
  },
  {
   "cell_type": "markdown",
   "metadata": {},
   "source": [
    "## Thème 1: Courbes et réfléchissements\n",
    "\n",
    "### Challenge 1: Vérifier qu'un point appartient à un cercle\n",
    "\n",
    "Afin de vérifier ceci, il suffit de vérifier que l'équation du cercle $C$ de rayon $r$ et centre $M$ (de la forme $(x-x_M)^2+(y-y_M)^2=r^2$) est respectée pour $A(x_A;y_A)$. Cela peut donner ces programmes."
   ]
  },
  {
   "cell_type": "code",
   "execution_count": null,
   "metadata": {},
   "outputs": [],
   "source": [
    "xA = float(input(\"xA = \"))\n",
    "yA = float(input(\"yA = \"))\n",
    "xM = float(input(\"xM = \"))\n",
    "yM = float(input(\"yM = \"))\n",
    "r2 = float(input(\"r2 = \"))\n",
    "\n",
    "if (xA - xM)**2 + (yA - yM)**2 == r2:\n",
    "    print(\"A appartient au cercle.\")\n",
    "else:\n",
    "    print(\"A n'appartient pas au cercle.\")"
   ]
  },
  {
   "cell_type": "code",
   "execution_count": null,
   "metadata": {},
   "outputs": [],
   "source": [
    "def est_inscrit(xA, yA, xM, yM, r2):\n",
    "    return (xA - xM)**2 + (yA - yM)**2 == r2\n",
    "\n",
    "# Exemple (vous pouvez modifier et exécuter avec Maj-Entrée)\n",
    "print(est_inscrit(1, 1, 0, 0, 2))"
   ]
  },
  {
   "cell_type": "markdown",
   "metadata": {},
   "source": [
    "**Note importante**: Il est recommandé d'utiliser le rayon *au carré* et non le rayon tout court. En effet, nous utilison dans ce code des `float`, des nombres à virgules, qui ont la fâcheuse tendance d'être imprécis. Or, lorsqu'on fait un test d'égalité, l'ordinateur va vérifier que *toutes les décimales* qu'il a enregistrée soient indentiques. Ainsi, on préfère le rayon au carré, car il sera plus souvent décimal, et car l'égalité nous demande de mettre le rayon au carré, ce qui peut augmenter l'imprécision."
   ]
  },
  {
   "cell_type": "markdown",
   "metadata": {},
   "source": [
    "### Challenge 2: Intersection de deux droites\n",
    "\n",
    "> Soit deux droites, $(D_1)$ et $(D_2)$, d'équations $y = m_1x + p_1$ et $y = m_2x + p_2$. Calculer les coordonnées des intersections (en Python sinon c'est pas drôle).\n",
    "\n",
    "Lorsqu'on a deux droites, il y a deux possibilités avec leur intersection:\n",
    "\n",
    "1. Il n'y a pas d'intersection: cela se passe lorsque les deux droites sont **parallèles**, donc lorsque leurs *coefficients directeurs* sont égaux. On a alors deux droites de même sens, et on peut se convaincre qu'il n'y a pas d'intersection \"à proprement parler\", même lorsque les deux droites sont les mêmes.\n",
    "2. Il y a une intersection: on a alors des *coeffcients directeurs* inégaux, des \"pentes\" différentes. Dans ce cas, l'intersection (que l'on appelera $I$) respecte les équations de $(D_1)$ et $(D_2)$ à la fois, donc:\n",
    "\n",
    "$$\n",
    "\\left \\{\n",
    "   \\begin{array}{r c l}\n",
    "      y_I &=& m_1 x_I + p_1 \\\\\n",
    "      y_I &=& m_2 x_I + p_2\n",
    "   \\end{array}\n",
    "\\right .\n",
    "\\iff\n",
    "\\left \\{\n",
    "   \\begin{array}{r c l}\n",
    "      y_I &=& m_1 x_I + p_1 \\\\\n",
    "      m_1 x_I + p_1 &=& m_2 x_I + p_2\n",
    "   \\end{array}\n",
    "\\right .\n",
    "\\iff\n",
    "\\left \\{\n",
    "   \\begin{array}{r c l}\n",
    "      y_I &=& m_1 x_I + p_1 \\\\\n",
    "      (m_1 - m_2)x_I + p_1 - p_2 &=& 0\n",
    "   \\end{array}\n",
    "\\right .\n",
    "\\iff\n",
    "\\left \\{\n",
    "   \\begin{array}{r c l}\n",
    "      y_I &=& m_1 x_I + p_1 \\\\\n",
    "      x_I &=& \\frac{p_2 - p_1}{m_1 - m_2}\n",
    "   \\end{array}\n",
    "\\right .\n",
    "$$\n",
    "\n",
    "Il nous suffit alors de calculer $x_I$, puis d'utiliser le résultat dans la formule de $y_I$."
   ]
  },
  {
   "cell_type": "code",
   "execution_count": null,
   "metadata": {},
   "outputs": [],
   "source": [
    "def intersection(m1, p1, m2, p2):\n",
    "    if m1 == m2:\n",
    "        return float(\"NaN\")\n",
    "    else:\n",
    "        xI = (p2 - p1)/(m1 - m2)\n",
    "        yI = m1 * xI + p1\n",
    "        return xI, yI\n",
    "\n",
    "# Exemples (vous pouvez modifier et exécuter avec Maj-Entrée)\n",
    "print(intersection(1, 1, -1, 3))\n",
    "print(intersection(2, 5, 2, -3))"
   ]
  },
  {
   "cell_type": "markdown",
   "metadata": {},
   "source": [
    "### Résoudre une équation du second degré\n",
    "\n",
    "Pour cela, prenons une équation de la forme $ax^2 + bx + c = 0$, avec $a \\neq 0$. Nous savons comment la résoudre de manière générale.\n",
    "\n",
    "Tout d'abord, on calcule le discriminant $\\Delta = b^2 - 4ac$. Puis:\n",
    "1. Si $\\Delta > 0$, alors il y a deux solutions: $x = \\frac{-b + \\sqrt{\\Delta}}{2a}$ et $x = \\frac{-b - \\sqrt{\\Delta}}{2a}$.\n",
    "2. Si $\\Delta = 0$, alors il n'y a qu'une solution! $x = \\frac{-b}{2a}$\n",
    "3. Sinon, $\\Delta$ est négatif et il n'y aucune solution\n",
    "\n",
    "On dirait que cette méthode est déjà un algorithme à elle seule, un peu comme une recette de cuisine, non ? Eh bien, c'est parfait pour notre programme, car il n'a qu'à suivre toutes les étapes."
   ]
  },
  {
   "cell_type": "code",
   "execution_count": null,
   "metadata": {},
   "outputs": [],
   "source": [
    "from math import sqrt\n",
    "\n",
    "def second_degré(a, b, c):\n",
    "    delta = b**2 - 4*a*c\n",
    "    if delta > 0:\n",
    "        return (-b - sqrt(delta)) / (2*a), (-b + sqrt(delta)) / (2*a)\n",
    "    elif delta == 0:\n",
    "        return -b / (2*a)\n",
    "    else:\n",
    "        return float(\"NaN\")\n",
    "\n",
    "# Exemples (vous pouvez modifier et exécuter avec Maj-Entrée)\n",
    "print(second_degré(1, 1, 1))\n",
    "print(second_degré(-1, 2, 4))\n",
    "print(second_degré(1, 0, 0))"
   ]
  }
 ],
 "metadata": {
  "kernelspec": {
   "display_name": "Python 3",
   "language": "python",
   "name": "python3"
  },
  "language_info": {
   "codemirror_mode": {
    "name": "ipython",
    "version": 3
   },
   "file_extension": ".py",
   "mimetype": "text/x-python",
   "name": "python",
   "nbconvert_exporter": "python",
   "pygments_lexer": "ipython3",
   "version": "3.7.8"
  }
 },
 "nbformat": 4,
 "nbformat_minor": 4
}
