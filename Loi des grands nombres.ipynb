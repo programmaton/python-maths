{
 "cells": [
  {
   "cell_type": "code",
   "execution_count": 1,
   "metadata": {},
   "outputs": [],
   "source": [
    "import random"
   ]
  },
  {
   "cell_type": "code",
   "execution_count": 2,
   "metadata": {},
   "outputs": [],
   "source": [
    "def expérience():\n",
    "    nombre = random.randint(0, 36)\n",
    "    if 1 <= nombre <= 12 :\n",
    "        return 20\n",
    "    else:\n",
    "        return -10"
   ]
  },
  {
   "cell_type": "code",
   "execution_count": 3,
   "metadata": {},
   "outputs": [],
   "source": [
    "def liste_expérience(taille):\n",
    "    résultat = [0] * taille\n",
    "    for i in range(taille):\n",
    "        résultat[i] = expérience()\n",
    "    return résultat"
   ]
  },
  {
   "cell_type": "code",
   "execution_count": 4,
   "metadata": {},
   "outputs": [],
   "source": [
    "def moyenne(liste):\n",
    "    nb_éléments = len(liste)\n",
    "    somme = 0\n",
    "    for élément in liste:\n",
    "        somme = somme + élément\n",
    "    return somme / nb_éléments"
   ]
  },
  {
   "cell_type": "code",
   "execution_count": 5,
   "metadata": {},
   "outputs": [
    {
     "name": "stdout",
     "output_type": "stream",
     "text": [
      "Test (10 essais): -4.0\n",
      "Test (1000 essais): -0.04\n",
      "Test (100000 essais): -0.2824\n",
      "Test (1000000000000 essais): -0.272332\n"
     ]
    }
   ],
   "source": [
    "échantillon_1 = liste_expérience(10)\n",
    "moyenne_1 = moyenne(échantillon_1)\n",
    "print(\"Test (10 essais):\", moyenne_1)\n",
    "\n",
    "échantillon_2 = liste_expérience(1000)\n",
    "moyenne_2 = moyenne(échantillon_2)\n",
    "print(\"Test (1000 essais):\", moyenne_2)\n",
    "\n",
    "échantillon_3 = liste_expérience(100000)\n",
    "moyenne_3 = moyenne(échantillon_3)\n",
    "print(\"Test (100000 essais):\", moyenne_3)\n",
    "\n",
    "échantillon_4 = liste_expérience(10000000)\n",
    "moyenne_4 = moyenne(échantillon_4)\n",
    "print(\"Test (1000000000000 essais):\", moyenne_4)"
   ]
  },
  {
   "cell_type": "code",
   "execution_count": null,
   "metadata": {},
   "outputs": [],
   "source": []
  }
 ],
 "metadata": {
  "kernelspec": {
   "display_name": "Python 3",
   "language": "python",
   "name": "python3"
  },
  "language_info": {
   "codemirror_mode": {
    "name": "ipython",
    "version": 3
   },
   "file_extension": ".py",
   "mimetype": "text/x-python",
   "name": "python",
   "nbconvert_exporter": "python",
   "pygments_lexer": "ipython3",
   "version": "3.7.8"
  }
 },
 "nbformat": 4,
 "nbformat_minor": 4
}
